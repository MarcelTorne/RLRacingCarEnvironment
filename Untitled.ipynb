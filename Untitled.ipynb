{
 "cells": [
  {
   "cell_type": "code",
   "execution_count": 1,
   "id": "confirmed-basement",
   "metadata": {},
   "outputs": [
    {
     "name": "stdout",
     "output_type": "stream",
     "text": [
      "pygame 2.0.1 (SDL 2.0.14, Python 3.8.7)\n",
      "Hello from the pygame community. https://www.pygame.org/contribute.html\n"
     ]
    }
   ],
   "source": [
    "import pygame\n",
    "import time\n",
    "import random"
   ]
  },
  {
   "cell_type": "code",
   "execution_count": 2,
   "id": "announced-fleece",
   "metadata": {},
   "outputs": [
    {
     "data": {
      "text/plain": [
       "(7, 0)"
      ]
     },
     "execution_count": 2,
     "metadata": {},
     "output_type": "execute_result"
    }
   ],
   "source": [
    "pygame.init()"
   ]
  },
  {
   "cell_type": "code",
   "execution_count": 3,
   "id": "impressed-morris",
   "metadata": {},
   "outputs": [],
   "source": [
    "display_width = 800\n",
    "display_height= 600\n",
    "fps = 30\n",
    "\n",
    "black = (0,0,0) #RGB\n",
    "white = (255,255,255) #RGB\n",
    "red = (255, 0, 0)\n",
    "\n",
    "gameDisplay = pygame.display.set_mode((display_width, display_height))\n",
    "\n",
    "pygame.display.set_caption('A bit Racey')\n",
    "\n",
    "clock = pygame.time.Clock()"
   ]
  },
  {
   "cell_type": "code",
   "execution_count": 4,
   "id": "conscious-container",
   "metadata": {},
   "outputs": [],
   "source": [
    "carImg = pygame.image.load('car.png')\n",
    "car_width = 100\n",
    "\n",
    "def things(thingx, thingy, thingw, thingh, color):\n",
    "    pygame.draw.rect(gameDisplay, color, [thingx,thingy,thingw,thingh])\n",
    "    \n",
    "def car(x,y):\n",
    "    gameDisplay.blit(carImg, (x,y))\n",
    "    \n",
    "    \n",
    "def text_objects(text, font):\n",
    "    textSurface = font.render(text, True, black)\n",
    "    return textSurface, textSurface.get_rect()\n",
    "    \n",
    "def message_display(text):\n",
    "    largeText = pygame.font.Font('freesansbold.ttf', 115)\n",
    "    TextSurf, TextRect = text_objects(text, largeText)\n",
    "    TextRect.center = (display_width/2, display_height/2)\n",
    "    \n",
    "    gameDisplay.blit(TextSurf, TextRect)\n",
    "    pygame.display.update()\n",
    "    \n",
    "    time.sleep(2)\n",
    "    \n",
    "    game_loop()\n",
    "    \n",
    "def crash():\n",
    "    message_display('You Crashed')"
   ]
  },
  {
   "cell_type": "code",
   "execution_count": 7,
   "id": "considered-graham",
   "metadata": {},
   "outputs": [],
   "source": [
    "#Game loop\n",
    "\n",
    "def game_loop():\n",
    "    gameExit = False\n",
    "    \n",
    "    car_x = display_width*0.45\n",
    "    car_y = display_height*0.75\n",
    "    car_x_change = 0\n",
    "    \n",
    "    thing_startx = random.randrange(0, display_width)\n",
    "    thing_starty = -600\n",
    "    thing_speed = 7\n",
    "    thing_width = 100\n",
    "    thing_height = 100\n",
    "\n",
    "    while not gameExit:\n",
    "        for event in pygame.event.get():\n",
    "            if event.type == pygame.QUIT:\n",
    "                pygame.quit()\n",
    "                quit()\n",
    "\n",
    "            if event.type == pygame.KEYDOWN:\n",
    "                if event.key == pygame.K_LEFT:\n",
    "                    car_x_change = -5\n",
    "                elif event.key == pygame.K_RIGHT:\n",
    "                    car_x_change = 5\n",
    "            if event.type == pygame.KEYUP:\n",
    "                if event.key == pygame.K_LEFT or event.key == pygame.K_RIGHT:\n",
    "                    car_x_change = 0\n",
    "\n",
    "        car_x+=car_x_change\n",
    "\n",
    "        gameDisplay.fill(white)\n",
    "        \n",
    "        # things(thingx, thingy, thingw, thingh, color)\n",
    "        things(thing_startx, thing_starty, thing_width, thing_height, black)\n",
    "        thing_starty += thing_speed\n",
    "        car(car_x,car_y)\n",
    "        \n",
    "        #logic\n",
    "        if car_x > display_width - car_width or car_x < 0:\n",
    "            crash()\n",
    "            \n",
    "        if thing_starty > display_height:\n",
    "            thing_starty = 0 - thing_height\n",
    "            thing_startx = random.randrange(0, display_width)\n",
    "        \n",
    "        if car_y < thing_starty + thing_height:\n",
    "            if car_x > thing_startx and car_x < thing_startx + thing_width or car_x + car_width > thing_startx and car_x+car_width < thing_startx + thing_width:\n",
    "                crash()\n",
    "                \n",
    "        pygame.display.update()\n",
    "\n",
    "        clock.tick(fps)"
   ]
  },
  {
   "cell_type": "code",
   "execution_count": 8,
   "id": "present-biotechnology",
   "metadata": {},
   "outputs": [
    {
     "ename": "error",
     "evalue": "display Surface quit",
     "output_type": "error",
     "traceback": [
      "\u001b[0;31m---------------------------------------------------------------------------\u001b[0m",
      "\u001b[0;31merror\u001b[0m                                     Traceback (most recent call last)",
      "\u001b[0;32m<ipython-input-8-34ca063ca3d6>\u001b[0m in \u001b[0;36m<module>\u001b[0;34m\u001b[0m\n\u001b[0;32m----> 1\u001b[0;31m \u001b[0mgame_loop\u001b[0m\u001b[0;34m(\u001b[0m\u001b[0;34m)\u001b[0m\u001b[0;34m\u001b[0m\u001b[0;34m\u001b[0m\u001b[0m\n\u001b[0m\u001b[1;32m      2\u001b[0m \u001b[0mpygame\u001b[0m\u001b[0;34m.\u001b[0m\u001b[0mquit\u001b[0m\u001b[0;34m(\u001b[0m\u001b[0;34m)\u001b[0m \u001b[0;31m#quit pygame\u001b[0m\u001b[0;34m\u001b[0m\u001b[0;34m\u001b[0m\u001b[0m\n\u001b[1;32m      3\u001b[0m \u001b[0mquit\u001b[0m\u001b[0;34m(\u001b[0m\u001b[0;34m)\u001b[0m \u001b[0;31m#quit python\u001b[0m\u001b[0;34m\u001b[0m\u001b[0;34m\u001b[0m\u001b[0m\n",
      "\u001b[0;32m<ipython-input-7-d7b49f1239cc>\u001b[0m in \u001b[0;36mgame_loop\u001b[0;34m()\u001b[0m\n\u001b[1;32m     48\u001b[0m         \u001b[0;32mif\u001b[0m \u001b[0mcar_y\u001b[0m \u001b[0;34m<\u001b[0m \u001b[0mthing_starty\u001b[0m \u001b[0;34m+\u001b[0m \u001b[0mthing_height\u001b[0m\u001b[0;34m:\u001b[0m\u001b[0;34m\u001b[0m\u001b[0;34m\u001b[0m\u001b[0m\n\u001b[1;32m     49\u001b[0m             \u001b[0;32mif\u001b[0m \u001b[0mcar_x\u001b[0m \u001b[0;34m>\u001b[0m \u001b[0mthing_startx\u001b[0m \u001b[0;32mand\u001b[0m \u001b[0mcar_x\u001b[0m \u001b[0;34m<\u001b[0m \u001b[0mthing_startx\u001b[0m \u001b[0;34m+\u001b[0m \u001b[0mthing_width\u001b[0m \u001b[0;32mor\u001b[0m \u001b[0mcar_x\u001b[0m \u001b[0;34m+\u001b[0m \u001b[0mcar_width\u001b[0m \u001b[0;34m>\u001b[0m \u001b[0mthing_startx\u001b[0m \u001b[0;32mand\u001b[0m \u001b[0mcar_x\u001b[0m\u001b[0;34m+\u001b[0m\u001b[0mcar_width\u001b[0m \u001b[0;34m<\u001b[0m \u001b[0mthing_startx\u001b[0m \u001b[0;34m+\u001b[0m \u001b[0mthing_width\u001b[0m\u001b[0;34m:\u001b[0m\u001b[0;34m\u001b[0m\u001b[0;34m\u001b[0m\u001b[0m\n\u001b[0;32m---> 50\u001b[0;31m                 \u001b[0mcrash\u001b[0m\u001b[0;34m(\u001b[0m\u001b[0;34m)\u001b[0m\u001b[0;34m\u001b[0m\u001b[0;34m\u001b[0m\u001b[0m\n\u001b[0m\u001b[1;32m     51\u001b[0m \u001b[0;34m\u001b[0m\u001b[0m\n\u001b[1;32m     52\u001b[0m         \u001b[0mpygame\u001b[0m\u001b[0;34m.\u001b[0m\u001b[0mdisplay\u001b[0m\u001b[0;34m.\u001b[0m\u001b[0mupdate\u001b[0m\u001b[0;34m(\u001b[0m\u001b[0;34m)\u001b[0m\u001b[0;34m\u001b[0m\u001b[0;34m\u001b[0m\u001b[0m\n",
      "\u001b[0;32m<ipython-input-4-8fc7d83dafad>\u001b[0m in \u001b[0;36mcrash\u001b[0;34m()\u001b[0m\n\u001b[1;32m     26\u001b[0m \u001b[0;34m\u001b[0m\u001b[0m\n\u001b[1;32m     27\u001b[0m \u001b[0;32mdef\u001b[0m \u001b[0mcrash\u001b[0m\u001b[0;34m(\u001b[0m\u001b[0;34m)\u001b[0m\u001b[0;34m:\u001b[0m\u001b[0;34m\u001b[0m\u001b[0;34m\u001b[0m\u001b[0m\n\u001b[0;32m---> 28\u001b[0;31m     \u001b[0mmessage_display\u001b[0m\u001b[0;34m(\u001b[0m\u001b[0;34m'You Crashed'\u001b[0m\u001b[0;34m)\u001b[0m\u001b[0;34m\u001b[0m\u001b[0;34m\u001b[0m\u001b[0m\n\u001b[0m",
      "\u001b[0;32m<ipython-input-4-8fc7d83dafad>\u001b[0m in \u001b[0;36mmessage_display\u001b[0;34m(text)\u001b[0m\n\u001b[1;32m     23\u001b[0m     \u001b[0mtime\u001b[0m\u001b[0;34m.\u001b[0m\u001b[0msleep\u001b[0m\u001b[0;34m(\u001b[0m\u001b[0;36m2\u001b[0m\u001b[0;34m)\u001b[0m\u001b[0;34m\u001b[0m\u001b[0;34m\u001b[0m\u001b[0m\n\u001b[1;32m     24\u001b[0m \u001b[0;34m\u001b[0m\u001b[0m\n\u001b[0;32m---> 25\u001b[0;31m     \u001b[0mgame_loop\u001b[0m\u001b[0;34m(\u001b[0m\u001b[0;34m)\u001b[0m\u001b[0;34m\u001b[0m\u001b[0;34m\u001b[0m\u001b[0m\n\u001b[0m\u001b[1;32m     26\u001b[0m \u001b[0;34m\u001b[0m\u001b[0m\n\u001b[1;32m     27\u001b[0m \u001b[0;32mdef\u001b[0m \u001b[0mcrash\u001b[0m\u001b[0;34m(\u001b[0m\u001b[0;34m)\u001b[0m\u001b[0;34m:\u001b[0m\u001b[0;34m\u001b[0m\u001b[0;34m\u001b[0m\u001b[0m\n",
      "\u001b[0;32m<ipython-input-7-d7b49f1239cc>\u001b[0m in \u001b[0;36mgame_loop\u001b[0;34m()\u001b[0m\n\u001b[1;32m     48\u001b[0m         \u001b[0;32mif\u001b[0m \u001b[0mcar_y\u001b[0m \u001b[0;34m<\u001b[0m \u001b[0mthing_starty\u001b[0m \u001b[0;34m+\u001b[0m \u001b[0mthing_height\u001b[0m\u001b[0;34m:\u001b[0m\u001b[0;34m\u001b[0m\u001b[0;34m\u001b[0m\u001b[0m\n\u001b[1;32m     49\u001b[0m             \u001b[0;32mif\u001b[0m \u001b[0mcar_x\u001b[0m \u001b[0;34m>\u001b[0m \u001b[0mthing_startx\u001b[0m \u001b[0;32mand\u001b[0m \u001b[0mcar_x\u001b[0m \u001b[0;34m<\u001b[0m \u001b[0mthing_startx\u001b[0m \u001b[0;34m+\u001b[0m \u001b[0mthing_width\u001b[0m \u001b[0;32mor\u001b[0m \u001b[0mcar_x\u001b[0m \u001b[0;34m+\u001b[0m \u001b[0mcar_width\u001b[0m \u001b[0;34m>\u001b[0m \u001b[0mthing_startx\u001b[0m \u001b[0;32mand\u001b[0m \u001b[0mcar_x\u001b[0m\u001b[0;34m+\u001b[0m\u001b[0mcar_width\u001b[0m \u001b[0;34m<\u001b[0m \u001b[0mthing_startx\u001b[0m \u001b[0;34m+\u001b[0m \u001b[0mthing_width\u001b[0m\u001b[0;34m:\u001b[0m\u001b[0;34m\u001b[0m\u001b[0;34m\u001b[0m\u001b[0m\n\u001b[0;32m---> 50\u001b[0;31m                 \u001b[0mcrash\u001b[0m\u001b[0;34m(\u001b[0m\u001b[0;34m)\u001b[0m\u001b[0;34m\u001b[0m\u001b[0;34m\u001b[0m\u001b[0m\n\u001b[0m\u001b[1;32m     51\u001b[0m \u001b[0;34m\u001b[0m\u001b[0m\n\u001b[1;32m     52\u001b[0m         \u001b[0mpygame\u001b[0m\u001b[0;34m.\u001b[0m\u001b[0mdisplay\u001b[0m\u001b[0;34m.\u001b[0m\u001b[0mupdate\u001b[0m\u001b[0;34m(\u001b[0m\u001b[0;34m)\u001b[0m\u001b[0;34m\u001b[0m\u001b[0;34m\u001b[0m\u001b[0m\n",
      "\u001b[0;32m<ipython-input-4-8fc7d83dafad>\u001b[0m in \u001b[0;36mcrash\u001b[0;34m()\u001b[0m\n\u001b[1;32m     26\u001b[0m \u001b[0;34m\u001b[0m\u001b[0m\n\u001b[1;32m     27\u001b[0m \u001b[0;32mdef\u001b[0m \u001b[0mcrash\u001b[0m\u001b[0;34m(\u001b[0m\u001b[0;34m)\u001b[0m\u001b[0;34m:\u001b[0m\u001b[0;34m\u001b[0m\u001b[0;34m\u001b[0m\u001b[0m\n\u001b[0;32m---> 28\u001b[0;31m     \u001b[0mmessage_display\u001b[0m\u001b[0;34m(\u001b[0m\u001b[0;34m'You Crashed'\u001b[0m\u001b[0;34m)\u001b[0m\u001b[0;34m\u001b[0m\u001b[0;34m\u001b[0m\u001b[0m\n\u001b[0m",
      "\u001b[0;32m<ipython-input-4-8fc7d83dafad>\u001b[0m in \u001b[0;36mmessage_display\u001b[0;34m(text)\u001b[0m\n\u001b[1;32m     23\u001b[0m     \u001b[0mtime\u001b[0m\u001b[0;34m.\u001b[0m\u001b[0msleep\u001b[0m\u001b[0;34m(\u001b[0m\u001b[0;36m2\u001b[0m\u001b[0;34m)\u001b[0m\u001b[0;34m\u001b[0m\u001b[0;34m\u001b[0m\u001b[0m\n\u001b[1;32m     24\u001b[0m \u001b[0;34m\u001b[0m\u001b[0m\n\u001b[0;32m---> 25\u001b[0;31m     \u001b[0mgame_loop\u001b[0m\u001b[0;34m(\u001b[0m\u001b[0;34m)\u001b[0m\u001b[0;34m\u001b[0m\u001b[0;34m\u001b[0m\u001b[0m\n\u001b[0m\u001b[1;32m     26\u001b[0m \u001b[0;34m\u001b[0m\u001b[0m\n\u001b[1;32m     27\u001b[0m \u001b[0;32mdef\u001b[0m \u001b[0mcrash\u001b[0m\u001b[0;34m(\u001b[0m\u001b[0;34m)\u001b[0m\u001b[0;34m:\u001b[0m\u001b[0;34m\u001b[0m\u001b[0;34m\u001b[0m\u001b[0m\n",
      "\u001b[0;32m<ipython-input-7-d7b49f1239cc>\u001b[0m in \u001b[0;36mgame_loop\u001b[0;34m()\u001b[0m\n\u001b[1;32m     48\u001b[0m         \u001b[0;32mif\u001b[0m \u001b[0mcar_y\u001b[0m \u001b[0;34m<\u001b[0m \u001b[0mthing_starty\u001b[0m \u001b[0;34m+\u001b[0m \u001b[0mthing_height\u001b[0m\u001b[0;34m:\u001b[0m\u001b[0;34m\u001b[0m\u001b[0;34m\u001b[0m\u001b[0m\n\u001b[1;32m     49\u001b[0m             \u001b[0;32mif\u001b[0m \u001b[0mcar_x\u001b[0m \u001b[0;34m>\u001b[0m \u001b[0mthing_startx\u001b[0m \u001b[0;32mand\u001b[0m \u001b[0mcar_x\u001b[0m \u001b[0;34m<\u001b[0m \u001b[0mthing_startx\u001b[0m \u001b[0;34m+\u001b[0m \u001b[0mthing_width\u001b[0m \u001b[0;32mor\u001b[0m \u001b[0mcar_x\u001b[0m \u001b[0;34m+\u001b[0m \u001b[0mcar_width\u001b[0m \u001b[0;34m>\u001b[0m \u001b[0mthing_startx\u001b[0m \u001b[0;32mand\u001b[0m \u001b[0mcar_x\u001b[0m\u001b[0;34m+\u001b[0m\u001b[0mcar_width\u001b[0m \u001b[0;34m<\u001b[0m \u001b[0mthing_startx\u001b[0m \u001b[0;34m+\u001b[0m \u001b[0mthing_width\u001b[0m\u001b[0;34m:\u001b[0m\u001b[0;34m\u001b[0m\u001b[0;34m\u001b[0m\u001b[0m\n\u001b[0;32m---> 50\u001b[0;31m                 \u001b[0mcrash\u001b[0m\u001b[0;34m(\u001b[0m\u001b[0;34m)\u001b[0m\u001b[0;34m\u001b[0m\u001b[0;34m\u001b[0m\u001b[0m\n\u001b[0m\u001b[1;32m     51\u001b[0m \u001b[0;34m\u001b[0m\u001b[0m\n\u001b[1;32m     52\u001b[0m         \u001b[0mpygame\u001b[0m\u001b[0;34m.\u001b[0m\u001b[0mdisplay\u001b[0m\u001b[0;34m.\u001b[0m\u001b[0mupdate\u001b[0m\u001b[0;34m(\u001b[0m\u001b[0;34m)\u001b[0m\u001b[0;34m\u001b[0m\u001b[0;34m\u001b[0m\u001b[0m\n",
      "\u001b[0;32m<ipython-input-4-8fc7d83dafad>\u001b[0m in \u001b[0;36mcrash\u001b[0;34m()\u001b[0m\n\u001b[1;32m     26\u001b[0m \u001b[0;34m\u001b[0m\u001b[0m\n\u001b[1;32m     27\u001b[0m \u001b[0;32mdef\u001b[0m \u001b[0mcrash\u001b[0m\u001b[0;34m(\u001b[0m\u001b[0;34m)\u001b[0m\u001b[0;34m:\u001b[0m\u001b[0;34m\u001b[0m\u001b[0;34m\u001b[0m\u001b[0m\n\u001b[0;32m---> 28\u001b[0;31m     \u001b[0mmessage_display\u001b[0m\u001b[0;34m(\u001b[0m\u001b[0;34m'You Crashed'\u001b[0m\u001b[0;34m)\u001b[0m\u001b[0;34m\u001b[0m\u001b[0;34m\u001b[0m\u001b[0m\n\u001b[0m",
      "\u001b[0;32m<ipython-input-4-8fc7d83dafad>\u001b[0m in \u001b[0;36mmessage_display\u001b[0;34m(text)\u001b[0m\n\u001b[1;32m     23\u001b[0m     \u001b[0mtime\u001b[0m\u001b[0;34m.\u001b[0m\u001b[0msleep\u001b[0m\u001b[0;34m(\u001b[0m\u001b[0;36m2\u001b[0m\u001b[0;34m)\u001b[0m\u001b[0;34m\u001b[0m\u001b[0;34m\u001b[0m\u001b[0m\n\u001b[1;32m     24\u001b[0m \u001b[0;34m\u001b[0m\u001b[0m\n\u001b[0;32m---> 25\u001b[0;31m     \u001b[0mgame_loop\u001b[0m\u001b[0;34m(\u001b[0m\u001b[0;34m)\u001b[0m\u001b[0;34m\u001b[0m\u001b[0;34m\u001b[0m\u001b[0m\n\u001b[0m\u001b[1;32m     26\u001b[0m \u001b[0;34m\u001b[0m\u001b[0m\n\u001b[1;32m     27\u001b[0m \u001b[0;32mdef\u001b[0m \u001b[0mcrash\u001b[0m\u001b[0;34m(\u001b[0m\u001b[0;34m)\u001b[0m\u001b[0;34m:\u001b[0m\u001b[0;34m\u001b[0m\u001b[0;34m\u001b[0m\u001b[0m\n",
      "\u001b[0;32m<ipython-input-7-d7b49f1239cc>\u001b[0m in \u001b[0;36mgame_loop\u001b[0;34m()\u001b[0m\n\u001b[1;32m     31\u001b[0m         \u001b[0mcar_x\u001b[0m\u001b[0;34m+=\u001b[0m\u001b[0mcar_x_change\u001b[0m\u001b[0;34m\u001b[0m\u001b[0;34m\u001b[0m\u001b[0m\n\u001b[1;32m     32\u001b[0m \u001b[0;34m\u001b[0m\u001b[0m\n\u001b[0;32m---> 33\u001b[0;31m         \u001b[0mgameDisplay\u001b[0m\u001b[0;34m.\u001b[0m\u001b[0mfill\u001b[0m\u001b[0;34m(\u001b[0m\u001b[0mwhite\u001b[0m\u001b[0;34m)\u001b[0m\u001b[0;34m\u001b[0m\u001b[0;34m\u001b[0m\u001b[0m\n\u001b[0m\u001b[1;32m     34\u001b[0m \u001b[0;34m\u001b[0m\u001b[0m\n\u001b[1;32m     35\u001b[0m         \u001b[0;31m# things(thingx, thingy, thingw, thingh, color)\u001b[0m\u001b[0;34m\u001b[0m\u001b[0;34m\u001b[0m\u001b[0;34m\u001b[0m\u001b[0m\n",
      "\u001b[0;31merror\u001b[0m: display Surface quit"
     ]
    }
   ],
   "source": [
    "game_loop()\n",
    "pygame.quit() #quit pygame\n",
    "quit() #quit python"
   ]
  },
  {
   "cell_type": "code",
   "execution_count": null,
   "id": "emerging-support",
   "metadata": {},
   "outputs": [],
   "source": []
  },
  {
   "cell_type": "code",
   "execution_count": null,
   "id": "motivated-blackberry",
   "metadata": {},
   "outputs": [],
   "source": []
  },
  {
   "cell_type": "code",
   "execution_count": null,
   "id": "hungry-jonathan",
   "metadata": {},
   "outputs": [],
   "source": []
  },
  {
   "cell_type": "code",
   "execution_count": null,
   "id": "alpha-massage",
   "metadata": {},
   "outputs": [],
   "source": []
  }
 ],
 "metadata": {
  "kernelspec": {
   "display_name": "Python 3",
   "language": "python",
   "name": "python3"
  },
  "language_info": {
   "codemirror_mode": {
    "name": "ipython",
    "version": 3
   },
   "file_extension": ".py",
   "mimetype": "text/x-python",
   "name": "python",
   "nbconvert_exporter": "python",
   "pygments_lexer": "ipython3",
   "version": "3.8.7"
  }
 },
 "nbformat": 4,
 "nbformat_minor": 5
}
